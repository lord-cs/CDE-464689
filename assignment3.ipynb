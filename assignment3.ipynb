{
 "cells": [
  {
   "cell_type": "markdown",
   "id": "cbc8f4c1",
   "metadata": {},
   "source": [
    "1. Write a program that accepts a string from user. Your program should count and display number of vowels in that string. "
   ]
  },
  {
   "cell_type": "code",
   "execution_count": 1,
   "id": "d237a994",
   "metadata": {},
   "outputs": [
    {
     "name": "stdout",
     "output_type": "stream",
     "text": [
      "no of vowels are 2\n"
     ]
    }
   ],
   "source": [
    "str=input(\"enter your string: \")\n",
    "count=0\n",
    "for item in str:\n",
    "    if(item==\"a\"or item==\"e\"or item==\"i\"or item==\"o\"or item==\"u\"):\n",
    "        count+=1\n",
    "    \n",
    "print(f\"no of vowels are {count}\")"
   ]
  },
  {
   "cell_type": "markdown",
   "id": "03c1063e",
   "metadata": {},
   "source": [
    " 2. Write a program that reads a string from keyboard and display:\n",
    "* The number of uppercase letters in the string\n",
    "* The number of lowercase letters in the string\n",
    "* The number of digits in the string\n",
    "* The number of whitespace characters in the string"
   ]
  },
  {
   "cell_type": "code",
   "execution_count": null,
   "id": "6af9e095",
   "metadata": {},
   "outputs": [],
   "source": [
    "str=input(\"enter your string: \")\n",
    "ucount=0\n",
    "lcount=0\n",
    "dcount=0\n",
    "wcount=0\n",
    "for item in str:\n",
    "    if(item==\" \"):\n",
    "        wcount+=1\n",
    "    elif(item.islower()==True):\n",
    "        lcount+=1\n",
    "    elif(item.isupper()==True):\n",
    "        ucount+=1\n",
    "    elif(item.isdigit()):\n",
    "        dcount+=1  \n",
    "print(f\"no of white spaces: {wcount}\")\n",
    "print(f\"no of lowercase letters: {lcount}\")\n",
    "print(f\"no of uppercase letters: {ucount}\")\n",
    "print(f\"no of digits: {dcount}\")\n"
   ]
  },
  {
   "cell_type": "markdown",
   "id": "585b4cae",
   "metadata": {},
   "source": [
    " 3. Write a Python program that accepts a string from user. Your program should create and display a\n",
    "new string where the first and last characters have been exchanged. \n"
   ]
  },
  {
   "cell_type": "code",
   "execution_count": null,
   "id": "806efc62",
   "metadata": {},
   "outputs": [],
   "source": [
    "str=input(\"enter your string: \")\n",
    "newstr=str[-1]+str[1:-1]+str[0]\n",
    "print(newstr)"
   ]
  },
  {
   "cell_type": "markdown",
   "id": "debde766",
   "metadata": {},
   "source": [
    "4. Write a Python program that accepts a string from user. Your program should create a new string in\n",
    "reverse of first string and display it."
   ]
  },
  {
   "cell_type": "code",
   "execution_count": null,
   "id": "f46ee613",
   "metadata": {},
   "outputs": [],
   "source": [
    "str=input(\"enter your string: \")\n",
    "l=list(str)\n",
    "l.reverse()\n",
    "p=\"\".join(l)\n",
    "print(p)"
   ]
  },
  {
   "cell_type": "markdown",
   "id": "a74ad415",
   "metadata": {},
   "source": [
    " 5. Write a Python program that accepts a string from user. Your program should create a new string by\n",
    "shifting one position to left"
   ]
  },
  {
   "cell_type": "code",
   "execution_count": null,
   "id": "4045991d",
   "metadata": {},
   "outputs": [],
   "source": [
    "str= input(\"enter your string: \")\n",
    "newstr=str[1:len(str)]+ str[0]\n",
    "print(newstr)\n"
   ]
  },
  {
   "cell_type": "markdown",
   "id": "df81c1b7",
   "metadata": {},
   "source": [
    "6. Write a program that asks the user to input his name and print its initials. Assuming that the user\n",
    "always types first name, middle name and last name and does not include any unnecessary spaces. \n"
   ]
  },
  {
   "cell_type": "code",
   "execution_count": null,
   "id": "b44dc31a",
   "metadata": {},
   "outputs": [],
   "source": [
    "str= input(\"enter your string: \")\n",
    "j=0\n",
    "k=0\n",
    "index=0\n",
    "for item in str:\n",
    "    if(item==\" \"):\n",
    "        if(j==0):\n",
    "            j=index+1\n",
    "        elif(j>0):\n",
    "            k=index+1\n",
    "\n",
    "    index+=1\n",
    "print(f\"{str[0].upper()}{str[j].upper()}{str[k].upper()}\")"
   ]
  },
  {
   "cell_type": "markdown",
   "id": "df4e5f7e",
   "metadata": {},
   "source": [
    "7. A palindrome is a string that reads the same backward as forward. For example, the words dad,\n",
    "madam and radar are all palindromes. Write a programs that determines whether the string is a\n",
    "palindrome. \n"
   ]
  },
  {
   "cell_type": "code",
   "execution_count": null,
   "id": "e377011d",
   "metadata": {},
   "outputs": [],
   "source": [
    "str= input(\"enter your string: \")\n",
    "n=len(str)\n",
    "flag=True\n",
    "for i in range(n//2):\n",
    "    if(str[i]!=str[n-i-1]):\n",
    "        flag=False\n",
    "        break\n",
    "if(flag==True):\n",
    "    print(\"palindrome\")\n",
    "elif(flag==False):\n",
    "    print(\"not palindrome\")\n"
   ]
  },
  {
   "cell_type": "markdown",
   "id": "07435db7",
   "metadata": {},
   "source": [
    "8. Write a program that display following output:\n",
    "SHIFT\n",
    "HIFTS\n",
    "IFTSH\n",
    "FTSHI\n",
    "TSHIF\n",
    "SHIFT \n",
    "                "
   ]
  },
  {
   "cell_type": "code",
   "execution_count": null,
   "id": "aaaa22af",
   "metadata": {},
   "outputs": [],
   "source": [
    "str=\"SHIFT\"\n",
    "for i in range(0,6):\n",
    "    newstr=str[i:] + str[:i]\n",
    "    print(newstr)"
   ]
  },
  {
   "cell_type": "markdown",
   "id": "416dd4e3",
   "metadata": {},
   "source": [
    " 9. Write a program in python that accepts a string to setup a passwords. Your entered password must\n",
    "meet the following requirements:\n",
    "The password must be at least eight characters long.\n",
    "It must contain at least one uppercase letter.\n",
    "It must contain at least one lowercase letter.\n",
    "It must contain at least one numeric digit.\n",
    "Your program should should perform this validation"
   ]
  },
  {
   "cell_type": "code",
   "execution_count": null,
   "id": "aad8ec33",
   "metadata": {},
   "outputs": [],
   "source": [
    "str= input(\"enter your string: \")\n",
    "uc =False\n",
    "lc= False\n",
    "dg=False\n",
    "l=False\n",
    "\n",
    "if(len(str)>7):\n",
    "    l=True\n",
    "    for item in str:\n",
    "        if(uc!=True):\n",
    "            if(item.isupper()):\n",
    "                uc=True\n",
    "        if(lc!=True):\n",
    "            if(item.islower()):\n",
    "                lc=True\n",
    "        if(dg!=True):\n",
    "            if(item.isdigit()):\n",
    "                dg=True\n",
    "            \n",
    "if(l==False):\n",
    "    print(\"unvalid password. length is not greater than 8 character\")\n",
    "elif(lc==False):\n",
    "    print(\"unvalid password. doesnot contain lowercase character\")\n",
    "elif(uc==False):\n",
    "    print(\"unvalid password. doesnot contain uppercase character\")\n",
    "elif(dg==False):\n",
    "    print(\"unvalid password. doesnot contain digit character\")\n",
    "else:\n",
    "    print(\"valid password\")\n"
   ]
  }
 ],
 "metadata": {
  "kernelspec": {
   "display_name": "Python 3",
   "language": "python",
   "name": "python3"
  },
  "language_info": {
   "codemirror_mode": {
    "name": "ipython",
    "version": 3
   },
   "file_extension": ".py",
   "mimetype": "text/x-python",
   "name": "python",
   "nbconvert_exporter": "python",
   "pygments_lexer": "ipython3",
   "version": "3.13.7"
  }
 },
 "nbformat": 4,
 "nbformat_minor": 5
}
