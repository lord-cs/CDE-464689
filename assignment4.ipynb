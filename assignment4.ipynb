{
 "cells": [
  {
   "cell_type": "markdown",
   "id": "e2ee19e2",
   "metadata": {},
   "source": [
    "1. Write a program that accepts a list from user and print the alternate element of list. "
   ]
  },
  {
   "cell_type": "code",
   "execution_count": null,
   "id": "7fb7fc24",
   "metadata": {},
   "outputs": [],
   "source": [
    "l=input(\"enter your list: \")\n",
    "l=l.split()\n",
    "flag = True\n",
    "for item in l:\n",
    "    if(flag):\n",
    "        print(item)\n",
    "        flag=False\n",
    "    else:\n",
    "        flag=True"
   ]
  },
  {
   "cell_type": "markdown",
   "id": "a4f852bd",
   "metadata": {},
   "source": [
    "2. Write a program that accepts a list from user. Your program should reverse the content of list and\n",
    "display it. Do not use reverse() method. "
   ]
  },
  {
   "cell_type": "code",
   "execution_count": null,
   "id": "9efbe3eb",
   "metadata": {},
   "outputs": [],
   "source": [
    "l=input(\"enter your list: \")\n",
    "l=l.split()\n",
    "l=l[::-1]\n",
    "print(l)\n"
   ]
  },
  {
   "cell_type": "markdown",
   "id": "02eb7651",
   "metadata": {},
   "source": [
    " 3. Find and display the largest number of a list without using built-in function max(). Your program\n",
    "should ask the user to input values in list from keyboard. \n"
   ]
  },
  {
   "cell_type": "code",
   "execution_count": null,
   "id": "9edac465",
   "metadata": {},
   "outputs": [],
   "source": [
    "l=input(\"enter your list of numbers to find max: \")\n",
    "l=l.split()\n",
    "max=l[0]\n",
    "for i in range(1,len(l)):\n",
    "    if(l[i]>max):\n",
    "        max=l[i]\n",
    "print(f\"max is {max}\")"
   ]
  },
  {
   "cell_type": "markdown",
   "id": "d446a873",
   "metadata": {},
   "source": [
    "4. Write a program that rotates the element of a list so that the element at the first index moves to the\n",
    "second index, the element in the second index moves to the third index, etc., and the element in the last\n",
    "index moves to the first index. \n"
   ]
  },
  {
   "cell_type": "code",
   "execution_count": null,
   "id": "b74d7b25",
   "metadata": {},
   "outputs": [],
   "source": [
    "l=input(\"enter your list: \")\n",
    "l=l.split()\n",
    "l1=[]\n",
    "l1.append(l[-1])\n",
    "l1.extend(l[0:-1])\n",
    "for item in l1:\n",
    "    print(f\"{item} \",end=\"\")"
   ]
  },
  {
   "cell_type": "markdown",
   "id": "34d18a72",
   "metadata": {},
   "source": [
    "5. Write a program that input a string and ask user to delete a given word from a string. "
   ]
  },
  {
   "cell_type": "code",
   "execution_count": null,
   "id": "cf33b8d4",
   "metadata": {},
   "outputs": [],
   "source": [
    "l=input(\"enter your list: \")\n",
    "l=l.split()\n",
    "word=input(\"enter word to delete: \")\n",
    "l.remove(word)\n",
    "for item in l:\n",
    "    print(f\"{item} \",end=\"\")"
   ]
  },
  {
   "cell_type": "markdown",
   "id": "3dfe8e19",
   "metadata": {},
   "source": [
    " 6. Write a program that reads a string from the user containing a date in the form mm/dd/yyyy. It\n",
    "should print the date in the form March 12, 2021. \n"
   ]
  },
  {
   "cell_type": "code",
   "execution_count": null,
   "id": "4fb9556d",
   "metadata": {},
   "outputs": [],
   "source": [
    "months = {\n",
    "    \"01\": \"January\", \"02\": \"February\", \"03\": \"March\", \"04\": \"April\",\n",
    "    \"05\": \"May\", \"06\": \"June\", \"07\": \"July\", \"08\": \"August\",\n",
    "    \"09\": \"September\", \"10\": \"October\", \"11\": \"November\", \"12\": \"December\"\n",
    "}\n",
    "date = input(\"Enter a date (mm/dd/yyyy): \")\n",
    "mm,dd,yyyy = date.split(\"/\")\n",
    "print(f\"{months[mm]} {int(dd)}, {yyyy}\")"
   ]
  },
  {
   "cell_type": "markdown",
   "id": "d038c265",
   "metadata": {},
   "source": [
    "7. Write a program with a function that accepts a string from keyboard and create a new string after converting character of each word capitalized. For instance, if the sentence is \"stop and smell the roses.\"\n",
    "the output should be \"Stop And Smell The Roses\" \n"
   ]
  },
  {
   "cell_type": "code",
   "execution_count": null,
   "id": "968a21b6",
   "metadata": {},
   "outputs": [],
   "source": [
    "def capitalizewords(sentence):\n",
    "    return sentence.title()\n",
    "\n",
    "s = input(\"Enter a your string: \")\n",
    "print(capitalizewords(s))"
   ]
  },
  {
   "cell_type": "markdown",
   "id": "a8aec12f",
   "metadata": {},
   "source": [
    "8. Find the sum of each row of matrix of size m x n. For example for the following matrix output will be\n",
    "like this :\n",
    "Sum of row 1 = 32\n",
    "Sum of row 2 = 31\n",
    "Sum of row 3 = 63"
   ]
  },
  {
   "cell_type": "code",
   "execution_count": 1,
   "id": "1a547d77",
   "metadata": {},
   "outputs": [
    {
     "name": "stdout",
     "output_type": "stream",
     "text": [
      "Sum of row 1 = 32\n",
      "Sum of row 2 = 31\n",
      "Sum of row 3 = 63\n"
     ]
    }
   ],
   "source": [
    "matrix = [[2, 11, 7, 12],\n",
    "          [5, 2, 9, 15],\n",
    "          [8, 3, 10, 42]]\n",
    "\n",
    "for i in range(len(matrix)):\n",
    "    row_sum = sum(matrix[i])\n",
    "    print(f\"Sum of row {i+1} = {row_sum}\")\n"
   ]
  },
  {
   "cell_type": "markdown",
   "id": "9c46f913",
   "metadata": {},
   "source": [
    "9. Write a program to add two matrices of size n x m. \n"
   ]
  },
  {
   "cell_type": "code",
   "execution_count": 3,
   "id": "8837977a",
   "metadata": {},
   "outputs": [
    {
     "name": "stdout",
     "output_type": "stream",
     "text": [
      "\n",
      "Sum of A and B:\n",
      "[10, 10, 10]\n",
      "[10, 10, 10]\n",
      "[10, 10, 10]\n"
     ]
    }
   ],
   "source": [
    "A = [\n",
    "    [1, 2, 3],\n",
    "    [4, 5, 6],\n",
    "    [7, 8, 9]\n",
    "]\n",
    "B = [\n",
    "    [9, 8, 7],\n",
    "    [6, 5, 4],\n",
    "    [3, 2, 1]\n",
    "]\n",
    "result = []\n",
    "\n",
    "for i in range(len(A)): \n",
    "    row = []\n",
    "    for j in range(len(A[0])): \n",
    "        row.append(A[i][j] + B[i][j]) \n",
    "    result.append(row)\n",
    "\n",
    "print(\"\\nSum of A and B:\")\n",
    "for row in result:\n",
    "    print(row)\n"
   ]
  },
  {
   "cell_type": "markdown",
   "id": "a5f8527f",
   "metadata": {},
   "source": [
    "10. Write a program to multiply two matrices "
   ]
  },
  {
   "cell_type": "code",
   "execution_count": 5,
   "id": "bc3d731a",
   "metadata": {},
   "outputs": [
    {
     "name": "stdout",
     "output_type": "stream",
     "text": [
      "\n",
      "Product of A and B:\n",
      "[58, 64]\n",
      "[139, 154]\n"
     ]
    }
   ],
   "source": [
    "A = [\n",
    "    [1, 2, 3],\n",
    "    [4, 5, 6]\n",
    "]\n",
    "B = [\n",
    "    [7, 8],\n",
    "    [9, 10],\n",
    "    [11, 12]\n",
    "]\n",
    "result = []\n",
    "for i in range(len(A)):\n",
    "    row = []\n",
    "    for j in range(len(B[0])):\n",
    "        row.append(0)\n",
    "    result.append(row)\n",
    "\n",
    "for i in range(len(A)):       \n",
    "    for j in range(len(B[0])):  \n",
    "        for k in range(len(B)):  \n",
    "            result[i][j] += A[i][k] * B[k][j]\n",
    "\n",
    "print(\"\\nProduct of A and B:\")\n",
    "for row in result:\n",
    "    print(row)\n"
   ]
  }
 ],
 "metadata": {
  "kernelspec": {
   "display_name": "Python 3",
   "language": "python",
   "name": "python3"
  },
  "language_info": {
   "codemirror_mode": {
    "name": "ipython",
    "version": 3
   },
   "file_extension": ".py",
   "mimetype": "text/x-python",
   "name": "python",
   "nbconvert_exporter": "python",
   "pygments_lexer": "ipython3",
   "version": "3.13.7"
  }
 },
 "nbformat": 4,
 "nbformat_minor": 5
}
