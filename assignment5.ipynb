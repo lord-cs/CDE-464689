{
 "cells": [
  {
   "cell_type": "markdown",
   "id": "a985a269",
   "metadata": {},
   "source": [
    "1. Write a Python program to print the numbers from 1 to 10 using a for loop. "
   ]
  },
  {
   "cell_type": "code",
   "execution_count": null,
   "id": "c8e24823",
   "metadata": {},
   "outputs": [],
   "source": [
    "for i in range(1, 11):\n",
    "    print(i)\n"
   ]
  },
  {
   "cell_type": "markdown",
   "id": "818e13e4",
   "metadata": {},
   "source": [
    "2. Write a Python program to print the numbers from 20 to 1 using a while loop."
   ]
  },
  {
   "cell_type": "code",
   "execution_count": 1,
   "id": "692a23a0",
   "metadata": {},
   "outputs": [
    {
     "name": "stdout",
     "output_type": "stream",
     "text": [
      "20\n",
      "19\n",
      "18\n",
      "17\n",
      "16\n",
      "15\n",
      "14\n",
      "13\n",
      "12\n",
      "11\n",
      "10\n",
      "9\n",
      "8\n",
      "7\n",
      "6\n",
      "5\n",
      "4\n",
      "3\n",
      "2\n",
      "1\n"
     ]
    }
   ],
   "source": [
    "i = 20\n",
    "while i >= 1:\n",
    "    print(i)\n",
    "    i -= 1\n"
   ]
  },
  {
   "cell_type": "markdown",
   "id": "520a4f9c",
   "metadata": {},
   "source": [
    "3. Write a program to print even numbers from 1 to 10."
   ]
  },
  {
   "cell_type": "code",
   "execution_count": null,
   "id": "da28f68c",
   "metadata": {},
   "outputs": [],
   "source": [
    "# for i in range(2, 11, 2):\n",
    "#     print(i)"
   ]
  },
  {
   "cell_type": "markdown",
   "id": "edb94b51",
   "metadata": {},
   "source": [
    "4. Write a program that prompts the user to enter a number n and prints all the\n",
    "numbers from 1 to n."
   ]
  },
  {
   "cell_type": "code",
   "execution_count": null,
   "id": "c07151f8",
   "metadata": {},
   "outputs": [],
   "source": [
    "n = int(input())\n",
    "for i in range(1, n + 1):\n",
    "    print(i)\n"
   ]
  },
  {
   "cell_type": "markdown",
   "id": "b718c5c9",
   "metadata": {},
   "source": [
    "5. Write a program that prompts the user to enter a number n, and then prints all the\n",
    "odd numbers between 1 and n. "
   ]
  },
  {
   "cell_type": "code",
   "execution_count": null,
   "id": "21988662",
   "metadata": {},
   "outputs": [],
   "source": [
    "n = int(input())\n",
    "for i in range(1, n + 1):\n",
    "    if i % 2 != 0:\n",
    "        print(i)\n"
   ]
  },
  {
   "cell_type": "markdown",
   "id": "f84cc281",
   "metadata": {},
   "source": [
    "6. Write a program that prints 'Happy Birthday!' five times on screen"
   ]
  },
  {
   "cell_type": "code",
   "execution_count": null,
   "id": "f622fbf9",
   "metadata": {},
   "outputs": [],
   "source": [
    "for i in range(5):\n",
    "    print(\"Happy Birthday!\")"
   ]
  },
  {
   "cell_type": "markdown",
   "id": "edb50591",
   "metadata": {},
   "source": [
    "7. Write a program that takes a number n as input from the user and generates the first\n",
    "n terms of the series formed by squaring the natural numbers. \n"
   ]
  },
  {
   "cell_type": "code",
   "execution_count": null,
   "id": "e48a08af",
   "metadata": {},
   "outputs": [],
   "source": [
    "x=int(input('Enter a number:'))\n",
    "print(\"the first terms\",x)\n",
    "for i in range(1,x+1):\n",
    "    print(i**2)"
   ]
  },
  {
   "cell_type": "markdown",
   "id": "d551aab0",
   "metadata": {},
   "source": [
    "\n",
    "8. Write a program that prompts the user to input a number and prints its multiplication\n",
    "table. \n"
   ]
  },
  {
   "cell_type": "code",
   "execution_count": null,
   "id": "03cc3ea6",
   "metadata": {},
   "outputs": [],
   "source": [
    "x=int(input('Enter a number:'))\n",
    "for i in range(1,11):\n",
    "    print(i*x)\n"
   ]
  },
  {
   "cell_type": "markdown",
   "id": "aff0b7fa",
   "metadata": {},
   "source": [
    "9. Write a Python program to print the first 8 terms of an arithmetic progression starting\n",
    "with 3 and having a common difference of 4.\n",
    "The program should output the following sequence:\n",
    "3 7 11 15 19 23 27 31 \n"
   ]
  },
  {
   "cell_type": "code",
   "execution_count": 2,
   "id": "a12c0ad5",
   "metadata": {},
   "outputs": [
    {
     "name": "stdout",
     "output_type": "stream",
     "text": [
      "3\n",
      "7\n",
      "11\n",
      "15\n",
      "19\n",
      "23\n",
      "27\n",
      "31\n"
     ]
    }
   ],
   "source": [
    "x=3\n",
    "for i in range(8):\n",
    "    print(x)\n",
    "    x=x+4\n"
   ]
  },
  {
   "cell_type": "markdown",
   "id": "a43f8dff",
   "metadata": {},
   "source": [
    "10. Write a Python program to print the first 6 terms of a geometric sequence starting\n",
    "with 2 and having a common ratio of 3.\n",
    "The program should output the following sequence:\n",
    "2 6 18 54 162 486 \n"
   ]
  },
  {
   "cell_type": "code",
   "execution_count": 3,
   "id": "9f4c90b7",
   "metadata": {},
   "outputs": [
    {
     "name": "stdout",
     "output_type": "stream",
     "text": [
      "2\n",
      "6\n",
      "18\n",
      "54\n",
      "162\n",
      "486\n"
     ]
    }
   ],
   "source": [
    "x=2\n",
    "r=3\n",
    "for i in range(6):\n",
    "    seq=x*(r**i)\n",
    "    print(seq)"
   ]
  },
  {
   "cell_type": "markdown",
   "id": "92dac101",
   "metadata": {},
   "source": [
    "11. Write a program that asks the user for a positive integer value. The program should\n",
    "calculate the sum of all the integers from 1 up to the number entered. For example, if\n",
    "the user enters 20, the loop will find the sum of 1, 2, 3, 4, ... 20. "
   ]
  },
  {
   "cell_type": "code",
   "execution_count": null,
   "id": "a56b97f9",
   "metadata": {},
   "outputs": [],
   "source": [
    "x=int(input('Enter a number'))\n",
    "sum=0\n",
    "for i in range(1,x+1):\n",
    "    sum+=i\n",
    "print(sum)    \n"
   ]
  },
  {
   "cell_type": "markdown",
   "id": "44cc7508",
   "metadata": {},
   "source": [
    "12. write a program that takes a positive integer N as input and calculates the sum of\n",
    "the reciprocals of all numbers from 1 up to N. The program should display the final sum.\n",
    "Output of the program should be like:\n",
    "Enter a positive integer: 5\n",
    "The sum of reciprocals from 1 to 5 is: 2.28 "
   ]
  },
  {
   "cell_type": "code",
   "execution_count": 6,
   "id": "c997f0c4",
   "metadata": {},
   "outputs": [
    {
     "name": "stdout",
     "output_type": "stream",
     "text": [
      "the sum of reciprocals from 1 to 2 is: 1.5\n"
     ]
    }
   ],
   "source": [
    "x=int(input('Enter a number'))\n",
    "sum=0\n",
    "for i in range(1,x+1):\n",
    "    sum+=1/i\n",
    "print((f\"the sum of reciprocals from 1 to {x} is: {sum}\")) "
   ]
  },
  {
   "cell_type": "markdown",
   "id": "873e61e6",
   "metadata": {},
   "source": [
    "13. Write a program that prompts the user to enter a number and repeats this process 5\n",
    "times. The program should accumulate the numbers entered and then display the final\n",
    "running total.\n",
    "Sample Output:\n",
    "Enter a number: 10\n",
    "Enter a number: 15\n",
    "Enter a number: 35\n",
    "Enter a number: 40\n",
    "Enter a number: 50\n",
    "The final running total is: 150"
   ]
  },
  {
   "cell_type": "code",
   "execution_count": null,
   "id": "676ff860",
   "metadata": {},
   "outputs": [],
   "source": [
    "sum=0\n",
    "for i in range(5):\n",
    "    x=int(input('Enter a number:'))\n",
    "    sum+=x\n",
    "print(sum) \n"
   ]
  },
  {
   "cell_type": "markdown",
   "id": "30c5123f",
   "metadata": {},
   "source": [
    "14. Write a program that prompts the user to enter a positive integer and calculates its\n",
    "factorial. The factorial of a positive integer 'n' is denoted as 'n!' and is calculated by\n",
    "multiplying all the integers from 1 to 'n' together. For example, the factorial of 5\n",
    "(denoted as 5!) is calculated as 1 x 2 x 3 x 4 x 5.\n",
    "The program should display the factorial value if the input is a positive number, or\n",
    "display a message stating that the factorial does not exist for negative numbers.\n",
    "Additionally, for an input of zero, the program should output that the factorial of 0 is 1. "
   ]
  },
  {
   "cell_type": "code",
   "execution_count": 7,
   "id": "2b278f2d",
   "metadata": {},
   "outputs": [
    {
     "name": "stdout",
     "output_type": "stream",
     "text": [
      "factorial: 720\n"
     ]
    }
   ],
   "source": [
    "x=int(input('Enter a number'))\n",
    "fac=1\n",
    "if(x>0):\n",
    "    for i in range(1,x+1):\n",
    "        fac=fac*i\n",
    "    print('factorial:',fac)\n",
    "elif x==0:\n",
    "    print('factorial=1')\n",
    "else :\n",
    "    print('Invalid in input')"
   ]
  },
  {
   "cell_type": "markdown",
   "id": "350aed70",
   "metadata": {},
   "source": [
    "15. Write a Python program that prompts the user to enter a base number and an\n",
    "exponent, and then calculates the power of the base to the exponent. The program\n",
    "should not use the exponentiation operator (**) or the math.pow() function. The\n",
    "program should handle both positive and negative exponents. "
   ]
  },
  {
   "cell_type": "code",
   "execution_count": null,
   "id": "554b3d0f",
   "metadata": {},
   "outputs": [],
   "source": [
    "x=int(input('Enter a base number:'))\n",
    "y=int(input('Enter a exponet:'))\n",
    "power=1\n",
    "negpower=1\n",
    "if y>0:\n",
    "    for i in range(1,y+1):\n",
    "        power=power*x\n",
    "    print(power)\n",
    "elif y<0:\n",
    "    for i in range(y,0):\n",
    "        negpower=negpower*(1/x)\n",
    "    print(negpower)"
   ]
  }
 ],
 "metadata": {
  "kernelspec": {
   "display_name": "Python 3",
   "language": "python",
   "name": "python3"
  },
  "language_info": {
   "codemirror_mode": {
    "name": "ipython",
    "version": 3
   },
   "file_extension": ".py",
   "mimetype": "text/x-python",
   "name": "python",
   "nbconvert_exporter": "python",
   "pygments_lexer": "ipython3",
   "version": "3.13.7"
  }
 },
 "nbformat": 4,
 "nbformat_minor": 5
}
