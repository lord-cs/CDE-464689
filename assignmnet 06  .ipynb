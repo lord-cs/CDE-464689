{
  "cells": [
    {
      "cell_type": "markdown",
      "metadata": {
        "id": "XLFr4w_7OFN7"
      },
      "source": [
        "1. Write a Python program to create a class representing a Circle. Include methods to calculate its area and perimeter."
      ]
    },
    {
      "cell_type": "code",
      "execution_count": 9,
      "metadata": {},
      "outputs": [
        {
          "name": "stdout",
          "output_type": "stream",
          "text": [
            "6.28\n",
            "12.56\n"
          ]
        }
      ],
      "source": [
        "class circle():\n",
        "    def __init__(self,radius):\n",
        "        self.radius=radius\n",
        "    def area(self):\n",
        "        x=3.14* self.radius\n",
        "        print(x)\n",
        "    def paramiter(self):\n",
        "        x=2*3.14* self.radius\n",
        "        print(x)\n",
        "c1=circle(2)\n",
        "c1.area()\n",
        "c1.paramiter()"
      ]
    },
    {
      "cell_type": "markdown",
      "metadata": {
        "id": "CBPk4mH4OTCO"
      },
      "source": [
        "2. Write a Python program to create a person class. Include attributes like name, country and date of birth. Implement a method to determine the person's age.\n"
      ]
    },
    {
      "cell_type": "code",
      "execution_count": 8,
      "metadata": {},
      "outputs": [
        {
          "name": "stdout",
          "output_type": "stream",
          "text": [
            "Alice is 35 years old.\n"
          ]
        }
      ],
      "source": [
        "class Person:\n",
        "    def __init__(self, name, country, birth_year, birth_month, birth_day):\n",
        "        self.name = name\n",
        "        self.country = country\n",
        "        self.birth_year = birth_year\n",
        "        self.birth_month = birth_month\n",
        "        self.birth_day = birth_day\n",
        "    \n",
        "    def calculate_age(self, current_year, current_month, current_day):\n",
        "        age = current_year - self.birth_year\n",
        "        if (current_month, current_day) < (self.birth_month, self.birth_day):\n",
        "            age -= 1\n",
        "        return age\n",
        "\n",
        "person1 = Person(\"Alice\", \"USA\", 1990, 5, 15)\n",
        "print(person1.name, \"is\", person1.calculate_age(2025, 10, 4), \"years old.\")\n"
      ]
    },
    {
      "cell_type": "markdown",
      "metadata": {},
      "source": [
        "3. Write a Python program to create a calculator class. Include methods for basic arithmetic operations."
      ]
    },
    {
      "cell_type": "code",
      "execution_count": 6,
      "metadata": {},
      "outputs": [
        {
          "name": "stdout",
          "output_type": "stream",
          "text": [
            "4\n",
            "0\n",
            "4\n",
            "1.0\n"
          ]
        }
      ],
      "source": [
        "class calculater():\n",
        "    def __init__(self):\n",
        "        pass\n",
        "    def add(self,x,y):\n",
        "        print(x+y)\n",
        "    def sub(self,x,y):\n",
        "        print(x-y)\n",
        "    def muliply(self,x,y):\n",
        "        print(x*y)\n",
        "    def divide(self,x,y):\n",
        "        print(x/y)\n",
        "\n",
        "c1=calculater()\n",
        "c1.add(2,2)\n",
        "c1.sub(2,2)\n",
        "c1.muliply(2,2)\n",
        "c1.divide(2,2)"
      ]
    }
  ],
  "metadata": {
    "colab": {
      "provenance": []
    },
    "kernelspec": {
      "display_name": "Python 3",
      "name": "python3"
    },
    "language_info": {
      "codemirror_mode": {
        "name": "ipython",
        "version": 3
      },
      "file_extension": ".py",
      "mimetype": "text/x-python",
      "name": "python",
      "nbconvert_exporter": "python",
      "pygments_lexer": "ipython3",
      "version": "3.13.5"
    }
  },
  "nbformat": 4,
  "nbformat_minor": 0
}
